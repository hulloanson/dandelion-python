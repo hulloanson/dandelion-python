{
  "nbformat": 4,
  "nbformat_minor": 0,
  "metadata": {
    "colab": {
      "name": "01 Basics",
      "private_outputs": true,
      "provenance": [],
      "collapsed_sections": [],
      "toc_visible": true,
      "include_colab_link": true
    },
    "kernelspec": {
      "display_name": "Python 3",
      "name": "python3"
    }
  },
  "cells": [
    {
      "cell_type": "markdown",
      "metadata": {
        "id": "view-in-github",
        "colab_type": "text"
      },
      "source": [
        "<a href=\"https://colab.research.google.com/github/hulloanson/dandelion-python/blob/master/01_Basics.ipynb\" target=\"_parent\"><img src=\"https://colab.research.google.com/assets/colab-badge.svg\" alt=\"Open In Colab\"/></a>"
      ]
    },
    {
      "cell_type": "markdown",
      "metadata": {
        "id": "ud5zfAJGVp4X"
      },
      "source": [
        "# Basics"
      ]
    },
    {
      "cell_type": "markdown",
      "metadata": {
        "id": "ebNkDiy0WX6d"
      },
      "source": [
        "## Before everything"
      ]
    },
    {
      "cell_type": "markdown",
      "metadata": {
        "id": "B6-V82pWpB6P"
      },
      "source": [
        "### Comments"
      ]
    },
    {
      "cell_type": "code",
      "metadata": {
        "id": "HRu0iNFBXBD9"
      },
      "source": [
        "# Comment, no effect"
      ],
      "execution_count": null,
      "outputs": []
    },
    {
      "cell_type": "markdown",
      "metadata": {
        "id": "QyK_4iwMWbi3"
      },
      "source": [
        "### Print"
      ]
    },
    {
      "cell_type": "code",
      "metadata": {
        "id": "yDOTGEwmWaCt"
      },
      "source": [
        "print(1)\n",
        "print('Hey you')\n",
        "print('hey you', 'yes you', 1234, 5678)"
      ],
      "execution_count": null,
      "outputs": []
    },
    {
      "cell_type": "markdown",
      "metadata": {
        "id": "WRcEZ_sHV9rm"
      },
      "source": [
        "## Variables"
      ]
    },
    {
      "cell_type": "code",
      "metadata": {
        "id": "HXVOiyYfVl5Q"
      },
      "source": [
        "# any name, 中文日文俄文都得 but not arabic numbers\n",
        "certainNumber = 1\n",
        "print(certainNumber)\n",
        "welcomeText = 'Hello!'\n",
        "print(welcomeText)\n",
        "我好撚鍾意 = '香港'\n",
        "print(我好撚鍾意)"
      ],
      "execution_count": null,
      "outputs": []
    },
    {
      "cell_type": "markdown",
      "metadata": {
        "id": "WKo8w2KgX699"
      },
      "source": [
        "## "
      ]
    },
    {
      "cell_type": "code",
      "metadata": {
        "id": "dZTBu71LpLV-"
      },
      "source": [
        ""
      ],
      "execution_count": null,
      "outputs": []
    }
  ]
}